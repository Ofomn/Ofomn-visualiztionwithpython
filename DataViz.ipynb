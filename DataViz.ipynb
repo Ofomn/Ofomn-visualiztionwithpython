{
 "cells": [
  {
   "cell_type": "code",
   "execution_count": null,
   "id": "bb150e3d",
   "metadata": {},
   "outputs": [],
   "source": [
    "from pycaret.datasets import get_data\n",
    "\n",
    "data = get_data('insurance')\n",
    "\n",
    "import matplotlib.pyplot as plt\n",
    "import seaborn as sns"
   ]
  },
  {
   "cell_type": "code",
   "execution_count": null,
   "id": "e51faf71",
   "metadata": {},
   "outputs": [],
   "source": [
    "data.info()"
   ]
  },
  {
   "cell_type": "code",
   "execution_count": null,
   "id": "c12a6d50",
   "metadata": {},
   "outputs": [],
   "source": [
    "sns.set_style('darkgrid')\n",
    "colors = ['#851836', '#EDBD17', '#0E1428', '#407076', '#4C5B61']\n",
    "sns.set_palette(sns.color_palette(colors))"
   ]
  },
  {
   "cell_type": "code",
   "execution_count": null,
   "id": "51194041",
   "metadata": {},
   "outputs": [],
   "source": [
    "categorical = ['sex', 'children', 'smoker', 'region']\n",
    "\n",
    "fig, axs = plt.subplots(2, 2, figsize=(20,10))\n",
    "\n",
    "for variable, ax in zip(categorical, axs.flatten()):\n",
    "  sns.histplot(data, x='charges', hue=variable, multiple='stack', ax=ax)\n"
   ]
  },
  {
   "cell_type": "code",
   "execution_count": null,
   "id": "23eed293",
   "metadata": {},
   "outputs": [],
   "source": []
  }
 ],
 "metadata": {
  "kernelspec": {
   "display_name": "Python 3 (ipykernel)",
   "language": "python",
   "name": "python3"
  },
  "language_info": {
   "codemirror_mode": {
    "name": "ipython",
    "version": 3
   },
   "file_extension": ".py",
   "mimetype": "text/x-python",
   "name": "python",
   "nbconvert_exporter": "python",
   "pygments_lexer": "ipython3",
   "version": "3.10.9"
  }
 },
 "nbformat": 4,
 "nbformat_minor": 5
}
